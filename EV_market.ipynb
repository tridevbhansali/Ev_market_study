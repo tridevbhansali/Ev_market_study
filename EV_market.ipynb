{
 "cells": [
  {
   "cell_type": "code",
   "execution_count": 1,
   "id": "f629b54c",
   "metadata": {},
   "outputs": [],
   "source": [
    "import pandas as pd\n",
    "from matplotlib import pyplot as plt\n",
    "import seaborn as sns\n",
    "from sklearn.decomposition import PCA\n",
    "from sklearn.preprocessing import LabelEncoder\n",
    "from sklearn.preprocessing import StandardScaler\n",
    "from sklearn.cluster import KMeans\n",
    "import warnings\n",
    "warnings.filterwarnings('ignore')\n",
    "%matplotlib inline"
   ]
  },
  {
   "cell_type": "code",
   "execution_count": 2,
   "id": "1a991571",
   "metadata": {},
   "outputs": [],
   "source": [
    "df_behaviour = pd.read_csv(r\"C:/Users/Tridev/Downloads/EV/buying_behaviour.csv\")\n",
    "df_2wheeler = pd.read_csv(r\"C:\\Users\\Tridev\\Downloads\\EV\\Ev2Wheeler.csv\")\n",
    "charging_station = pd.read_csv(r\"C:\\Users\\Tridev\\Downloads\\EV\\charging_station.csv\")\n",
    "sale = pd.read_excel(r\"C:\\Users\\Tridev\\Downloads\\EV\\Two_wheeler_sale.xlsx\")"
   ]
  },
  {
   "cell_type": "code",
   "execution_count": 3,
   "id": "f90942ed",
   "metadata": {},
   "outputs": [
    {
     "data": {
      "text/html": [
       "<div>\n",
       "<style scoped>\n",
       "    .dataframe tbody tr th:only-of-type {\n",
       "        vertical-align: middle;\n",
       "    }\n",
       "\n",
       "    .dataframe tbody tr th {\n",
       "        vertical-align: top;\n",
       "    }\n",
       "\n",
       "    .dataframe thead th {\n",
       "        text-align: right;\n",
       "    }\n",
       "</style>\n",
       "<table border=\"1\" class=\"dataframe\">\n",
       "  <thead>\n",
       "    <tr style=\"text-align: right;\">\n",
       "      <th></th>\n",
       "      <th>Age</th>\n",
       "      <th>Profession</th>\n",
       "      <th>Marrital Status</th>\n",
       "      <th>Education</th>\n",
       "      <th>No of Dependents</th>\n",
       "      <th>Personal loan</th>\n",
       "      <th>House Loan</th>\n",
       "      <th>Wife Working</th>\n",
       "      <th>Salary</th>\n",
       "      <th>Wife Salary</th>\n",
       "      <th>Total Salary</th>\n",
       "      <th>Make</th>\n",
       "      <th>Price</th>\n",
       "    </tr>\n",
       "  </thead>\n",
       "  <tbody>\n",
       "    <tr>\n",
       "      <th>0</th>\n",
       "      <td>27</td>\n",
       "      <td>Salaried</td>\n",
       "      <td>Single</td>\n",
       "      <td>Post Graduate</td>\n",
       "      <td>0</td>\n",
       "      <td>Yes</td>\n",
       "      <td>No</td>\n",
       "      <td>No</td>\n",
       "      <td>800000</td>\n",
       "      <td>0</td>\n",
       "      <td>800000</td>\n",
       "      <td>i20</td>\n",
       "      <td>800000</td>\n",
       "    </tr>\n",
       "    <tr>\n",
       "      <th>1</th>\n",
       "      <td>35</td>\n",
       "      <td>Salaried</td>\n",
       "      <td>Married</td>\n",
       "      <td>Post Graduate</td>\n",
       "      <td>2</td>\n",
       "      <td>Yes</td>\n",
       "      <td>Yes</td>\n",
       "      <td>Yes</td>\n",
       "      <td>1400000</td>\n",
       "      <td>600000</td>\n",
       "      <td>2000000</td>\n",
       "      <td>Ciaz</td>\n",
       "      <td>1000000</td>\n",
       "    </tr>\n",
       "    <tr>\n",
       "      <th>2</th>\n",
       "      <td>45</td>\n",
       "      <td>Business</td>\n",
       "      <td>Married</td>\n",
       "      <td>Graduate</td>\n",
       "      <td>4</td>\n",
       "      <td>Yes</td>\n",
       "      <td>Yes</td>\n",
       "      <td>No</td>\n",
       "      <td>1800000</td>\n",
       "      <td>0</td>\n",
       "      <td>1800000</td>\n",
       "      <td>Duster</td>\n",
       "      <td>1200000</td>\n",
       "    </tr>\n",
       "    <tr>\n",
       "      <th>3</th>\n",
       "      <td>41</td>\n",
       "      <td>Business</td>\n",
       "      <td>Married</td>\n",
       "      <td>Post Graduate</td>\n",
       "      <td>3</td>\n",
       "      <td>No</td>\n",
       "      <td>No</td>\n",
       "      <td>Yes</td>\n",
       "      <td>1600000</td>\n",
       "      <td>600000</td>\n",
       "      <td>2200000</td>\n",
       "      <td>City</td>\n",
       "      <td>1200000</td>\n",
       "    </tr>\n",
       "    <tr>\n",
       "      <th>4</th>\n",
       "      <td>31</td>\n",
       "      <td>Salaried</td>\n",
       "      <td>Married</td>\n",
       "      <td>Post Graduate</td>\n",
       "      <td>2</td>\n",
       "      <td>Yes</td>\n",
       "      <td>No</td>\n",
       "      <td>Yes</td>\n",
       "      <td>1800000</td>\n",
       "      <td>800000</td>\n",
       "      <td>2600000</td>\n",
       "      <td>SUV</td>\n",
       "      <td>1600000</td>\n",
       "    </tr>\n",
       "  </tbody>\n",
       "</table>\n",
       "</div>"
      ],
      "text/plain": [
       "   Age Profession Marrital Status      Education  No of Dependents  \\\n",
       "0   27   Salaried          Single  Post Graduate                 0   \n",
       "1   35   Salaried         Married  Post Graduate                 2   \n",
       "2   45   Business         Married       Graduate                 4   \n",
       "3   41   Business         Married  Post Graduate                 3   \n",
       "4   31   Salaried         Married  Post Graduate                 2   \n",
       "\n",
       "  Personal loan House Loan Wife Working   Salary  Wife Salary  Total Salary  \\\n",
       "0           Yes         No           No   800000            0        800000   \n",
       "1           Yes        Yes          Yes  1400000       600000       2000000   \n",
       "2           Yes        Yes           No  1800000            0       1800000   \n",
       "3            No         No          Yes  1600000       600000       2200000   \n",
       "4           Yes         No          Yes  1800000       800000       2600000   \n",
       "\n",
       "     Make    Price  \n",
       "0     i20   800000  \n",
       "1    Ciaz  1000000  \n",
       "2  Duster  1200000  \n",
       "3    City  1200000  \n",
       "4     SUV  1600000  "
      ]
     },
     "execution_count": 3,
     "metadata": {},
     "output_type": "execute_result"
    }
   ],
   "source": [
    "df_behaviour.head()"
   ]
  },
  {
   "cell_type": "code",
   "execution_count": 4,
   "id": "eaa5a169",
   "metadata": {},
   "outputs": [
    {
     "data": {
      "text/html": [
       "<div>\n",
       "<style scoped>\n",
       "    .dataframe tbody tr th:only-of-type {\n",
       "        vertical-align: middle;\n",
       "    }\n",
       "\n",
       "    .dataframe tbody tr th {\n",
       "        vertical-align: top;\n",
       "    }\n",
       "\n",
       "    .dataframe thead th {\n",
       "        text-align: right;\n",
       "    }\n",
       "</style>\n",
       "<table border=\"1\" class=\"dataframe\">\n",
       "  <thead>\n",
       "    <tr style=\"text-align: right;\">\n",
       "      <th></th>\n",
       "      <th>Model</th>\n",
       "      <th>Price</th>\n",
       "      <th>Range</th>\n",
       "      <th>Charging_time</th>\n",
       "      <th>Top_speed</th>\n",
       "      <th>Motor_type</th>\n",
       "      <th>Battery_type</th>\n",
       "      <th>Battery_capacity</th>\n",
       "      <th>Wheels_type</th>\n",
       "      <th>Tyre_type</th>\n",
       "    </tr>\n",
       "  </thead>\n",
       "  <tbody>\n",
       "    <tr>\n",
       "      <th>0</th>\n",
       "      <td>Ola S1</td>\n",
       "      <td>1.00</td>\n",
       "      <td>128.0</td>\n",
       "      <td>NaN</td>\n",
       "      <td>95.0</td>\n",
       "      <td>Mid Drive IPM</td>\n",
       "      <td>NaN</td>\n",
       "      <td>3 kWh</td>\n",
       "      <td>Aluminium Alloy</td>\n",
       "      <td>Tubeless</td>\n",
       "    </tr>\n",
       "    <tr>\n",
       "      <th>1</th>\n",
       "      <td>TVS iQube Electric</td>\n",
       "      <td>1.60</td>\n",
       "      <td>100.0</td>\n",
       "      <td>2 Hour 50 Min - 80%</td>\n",
       "      <td>78.0</td>\n",
       "      <td>BLDC</td>\n",
       "      <td>Lithium Ion</td>\n",
       "      <td>3.04 kwh</td>\n",
       "      <td>Alloy</td>\n",
       "      <td>Tubeless</td>\n",
       "    </tr>\n",
       "    <tr>\n",
       "      <th>2</th>\n",
       "      <td>Ather 450X</td>\n",
       "      <td>0.98</td>\n",
       "      <td>146.0</td>\n",
       "      <td>5 hours 40 minutes</td>\n",
       "      <td>90.0</td>\n",
       "      <td>PMSM</td>\n",
       "      <td>Lithium-ion</td>\n",
       "      <td>3.7 kWh</td>\n",
       "      <td>Alloy</td>\n",
       "      <td>Tubeless</td>\n",
       "    </tr>\n",
       "    <tr>\n",
       "      <th>3</th>\n",
       "      <td>Bajaj Chetak</td>\n",
       "      <td>1.22</td>\n",
       "      <td>90.0</td>\n",
       "      <td>4 Hours</td>\n",
       "      <td>63.0</td>\n",
       "      <td>BLDC</td>\n",
       "      <td>Lithium Ion</td>\n",
       "      <td>3.04</td>\n",
       "      <td>Alloy</td>\n",
       "      <td>Tubeless</td>\n",
       "    </tr>\n",
       "    <tr>\n",
       "      <th>4</th>\n",
       "      <td>Ola S1 Pro</td>\n",
       "      <td>1.24</td>\n",
       "      <td>181.0</td>\n",
       "      <td>NaN</td>\n",
       "      <td>116.0</td>\n",
       "      <td>Mid Drive IPM</td>\n",
       "      <td>NaN</td>\n",
       "      <td>4 kWh</td>\n",
       "      <td>Aluminium Alloy</td>\n",
       "      <td>Tubeless</td>\n",
       "    </tr>\n",
       "  </tbody>\n",
       "</table>\n",
       "</div>"
      ],
      "text/plain": [
       "                Model  Price  Range        Charging_time  Top_speed  \\\n",
       "0              Ola S1   1.00  128.0                  NaN       95.0   \n",
       "1  TVS iQube Electric   1.60  100.0  2 Hour 50 Min - 80%       78.0   \n",
       "2          Ather 450X   0.98  146.0   5 hours 40 minutes       90.0   \n",
       "3        Bajaj Chetak   1.22   90.0              4 Hours       63.0   \n",
       "4          Ola S1 Pro   1.24  181.0                  NaN      116.0   \n",
       "\n",
       "      Motor_type Battery_type Battery_capacity      Wheels_type Tyre_type  \n",
       "0  Mid Drive IPM          NaN            3 kWh  Aluminium Alloy  Tubeless  \n",
       "1           BLDC  Lithium Ion         3.04 kwh            Alloy  Tubeless  \n",
       "2           PMSM  Lithium-ion          3.7 kWh            Alloy  Tubeless  \n",
       "3           BLDC  Lithium Ion             3.04            Alloy  Tubeless  \n",
       "4  Mid Drive IPM          NaN            4 kWh  Aluminium Alloy  Tubeless  "
      ]
     },
     "execution_count": 4,
     "metadata": {},
     "output_type": "execute_result"
    }
   ],
   "source": [
    "df_2wheeler.head()"
   ]
  },
  {
   "cell_type": "code",
   "execution_count": 5,
   "id": "26b2ade9",
   "metadata": {
    "scrolled": true
   },
   "outputs": [
    {
     "data": {
      "text/html": [
       "<div>\n",
       "<style scoped>\n",
       "    .dataframe tbody tr th:only-of-type {\n",
       "        vertical-align: middle;\n",
       "    }\n",
       "\n",
       "    .dataframe tbody tr th {\n",
       "        vertical-align: top;\n",
       "    }\n",
       "\n",
       "    .dataframe thead th {\n",
       "        text-align: right;\n",
       "    }\n",
       "</style>\n",
       "<table border=\"1\" class=\"dataframe\">\n",
       "  <thead>\n",
       "    <tr style=\"text-align: right;\">\n",
       "      <th></th>\n",
       "      <th>Age</th>\n",
       "      <th>No of Dependents</th>\n",
       "      <th>Salary</th>\n",
       "      <th>Wife Salary</th>\n",
       "      <th>Total Salary</th>\n",
       "      <th>Price</th>\n",
       "    </tr>\n",
       "  </thead>\n",
       "  <tbody>\n",
       "    <tr>\n",
       "      <th>count</th>\n",
       "      <td>99.000000</td>\n",
       "      <td>99.000000</td>\n",
       "      <td>9.900000e+01</td>\n",
       "      <td>9.900000e+01</td>\n",
       "      <td>9.900000e+01</td>\n",
       "      <td>9.900000e+01</td>\n",
       "    </tr>\n",
       "    <tr>\n",
       "      <th>mean</th>\n",
       "      <td>36.313131</td>\n",
       "      <td>2.181818</td>\n",
       "      <td>1.736364e+06</td>\n",
       "      <td>5.343434e+05</td>\n",
       "      <td>2.270707e+06</td>\n",
       "      <td>1.194040e+06</td>\n",
       "    </tr>\n",
       "    <tr>\n",
       "      <th>std</th>\n",
       "      <td>6.246054</td>\n",
       "      <td>1.335265</td>\n",
       "      <td>6.736217e+05</td>\n",
       "      <td>6.054450e+05</td>\n",
       "      <td>1.050777e+06</td>\n",
       "      <td>4.376955e+05</td>\n",
       "    </tr>\n",
       "    <tr>\n",
       "      <th>min</th>\n",
       "      <td>26.000000</td>\n",
       "      <td>0.000000</td>\n",
       "      <td>2.000000e+05</td>\n",
       "      <td>0.000000e+00</td>\n",
       "      <td>2.000000e+05</td>\n",
       "      <td>1.100000e+05</td>\n",
       "    </tr>\n",
       "    <tr>\n",
       "      <th>25%</th>\n",
       "      <td>31.000000</td>\n",
       "      <td>2.000000</td>\n",
       "      <td>1.300000e+06</td>\n",
       "      <td>0.000000e+00</td>\n",
       "      <td>1.550000e+06</td>\n",
       "      <td>8.000000e+05</td>\n",
       "    </tr>\n",
       "    <tr>\n",
       "      <th>50%</th>\n",
       "      <td>36.000000</td>\n",
       "      <td>2.000000</td>\n",
       "      <td>1.600000e+06</td>\n",
       "      <td>5.000000e+05</td>\n",
       "      <td>2.100000e+06</td>\n",
       "      <td>1.200000e+06</td>\n",
       "    </tr>\n",
       "    <tr>\n",
       "      <th>75%</th>\n",
       "      <td>41.000000</td>\n",
       "      <td>3.000000</td>\n",
       "      <td>2.200000e+06</td>\n",
       "      <td>9.000000e+05</td>\n",
       "      <td>2.700000e+06</td>\n",
       "      <td>1.500000e+06</td>\n",
       "    </tr>\n",
       "    <tr>\n",
       "      <th>max</th>\n",
       "      <td>51.000000</td>\n",
       "      <td>4.000000</td>\n",
       "      <td>3.800000e+06</td>\n",
       "      <td>2.100000e+06</td>\n",
       "      <td>5.200000e+06</td>\n",
       "      <td>3.000000e+06</td>\n",
       "    </tr>\n",
       "  </tbody>\n",
       "</table>\n",
       "</div>"
      ],
      "text/plain": [
       "             Age  No of Dependents        Salary   Wife Salary  Total Salary  \\\n",
       "count  99.000000         99.000000  9.900000e+01  9.900000e+01  9.900000e+01   \n",
       "mean   36.313131          2.181818  1.736364e+06  5.343434e+05  2.270707e+06   \n",
       "std     6.246054          1.335265  6.736217e+05  6.054450e+05  1.050777e+06   \n",
       "min    26.000000          0.000000  2.000000e+05  0.000000e+00  2.000000e+05   \n",
       "25%    31.000000          2.000000  1.300000e+06  0.000000e+00  1.550000e+06   \n",
       "50%    36.000000          2.000000  1.600000e+06  5.000000e+05  2.100000e+06   \n",
       "75%    41.000000          3.000000  2.200000e+06  9.000000e+05  2.700000e+06   \n",
       "max    51.000000          4.000000  3.800000e+06  2.100000e+06  5.200000e+06   \n",
       "\n",
       "              Price  \n",
       "count  9.900000e+01  \n",
       "mean   1.194040e+06  \n",
       "std    4.376955e+05  \n",
       "min    1.100000e+05  \n",
       "25%    8.000000e+05  \n",
       "50%    1.200000e+06  \n",
       "75%    1.500000e+06  \n",
       "max    3.000000e+06  "
      ]
     },
     "execution_count": 5,
     "metadata": {},
     "output_type": "execute_result"
    }
   ],
   "source": [
    "df_behaviour.describe()"
   ]
  },
  {
   "cell_type": "markdown",
   "id": "9e601ae1",
   "metadata": {},
   "source": [
    "### Buying Behaviour dataset does not contain null values"
   ]
  },
  {
   "cell_type": "code",
   "execution_count": 6,
   "id": "54a70bfc",
   "metadata": {},
   "outputs": [
    {
     "name": "stdout",
     "output_type": "stream",
     "text": [
      "<class 'pandas.core.frame.DataFrame'>\n",
      "RangeIndex: 99 entries, 0 to 98\n",
      "Data columns (total 13 columns):\n",
      " #   Column            Non-Null Count  Dtype \n",
      "---  ------            --------------  ----- \n",
      " 0   Age               99 non-null     int64 \n",
      " 1   Profession        99 non-null     object\n",
      " 2   Marrital Status   99 non-null     object\n",
      " 3   Education         99 non-null     object\n",
      " 4   No of Dependents  99 non-null     int64 \n",
      " 5   Personal loan     99 non-null     object\n",
      " 6   House Loan        99 non-null     object\n",
      " 7   Wife Working      99 non-null     object\n",
      " 8   Salary            99 non-null     int64 \n",
      " 9   Wife Salary       99 non-null     int64 \n",
      " 10  Total Salary      99 non-null     int64 \n",
      " 11  Make              99 non-null     object\n",
      " 12  Price             99 non-null     int64 \n",
      "dtypes: int64(6), object(7)\n",
      "memory usage: 10.2+ KB\n"
     ]
    }
   ],
   "source": [
    "df_behaviour.info()"
   ]
  },
  {
   "cell_type": "code",
   "execution_count": 7,
   "id": "1eccd452",
   "metadata": {},
   "outputs": [
    {
     "name": "stdout",
     "output_type": "stream",
     "text": [
      "<class 'pandas.core.frame.DataFrame'>\n",
      "RangeIndex: 74 entries, 0 to 73\n",
      "Data columns (total 10 columns):\n",
      " #   Column            Non-Null Count  Dtype  \n",
      "---  ------            --------------  -----  \n",
      " 0   Model             74 non-null     object \n",
      " 1   Price             74 non-null     float64\n",
      " 2   Range             70 non-null     float64\n",
      " 3   Charging_time     13 non-null     object \n",
      " 4   Top_speed         59 non-null     float64\n",
      " 5   Motor_type        74 non-null     object \n",
      " 6   Battery_type      66 non-null     object \n",
      " 7   Battery_capacity  70 non-null     object \n",
      " 8   Wheels_type       70 non-null     object \n",
      " 9   Tyre_type         63 non-null     object \n",
      "dtypes: float64(3), object(7)\n",
      "memory usage: 5.9+ KB\n"
     ]
    }
   ],
   "source": [
    "df_2wheeler.info()"
   ]
  },
  {
   "cell_type": "markdown",
   "id": "a8f7e19f",
   "metadata": {},
   "source": [
    "### Charging time column has Null Value in 61 rows out of 74. Removing the charging time column"
   ]
  },
  {
   "cell_type": "code",
   "execution_count": 8,
   "id": "cad92edd",
   "metadata": {},
   "outputs": [
    {
     "data": {
      "text/plain": [
       "Model                0\n",
       "Price                0\n",
       "Range                4\n",
       "Charging_time       61\n",
       "Top_speed           15\n",
       "Motor_type           0\n",
       "Battery_type         8\n",
       "Battery_capacity     4\n",
       "Wheels_type          4\n",
       "Tyre_type           11\n",
       "dtype: int64"
      ]
     },
     "execution_count": 8,
     "metadata": {},
     "output_type": "execute_result"
    }
   ],
   "source": [
    "df_2wheeler.isnull().sum()"
   ]
  },
  {
   "cell_type": "code",
   "execution_count": 9,
   "id": "1d1ef0c0",
   "metadata": {},
   "outputs": [],
   "source": [
    "df_2wheeler.drop(labels=\"Charging_time\", axis=1, inplace=True)"
   ]
  },
  {
   "cell_type": "markdown",
   "id": "48a33110",
   "metadata": {},
   "source": [
    "### \"Lithium-ion\" has 7 different types of spelling & \"Alloy\" has 3 different spelling"
   ]
  },
  {
   "cell_type": "code",
   "execution_count": 10,
   "id": "8c9882b6",
   "metadata": {},
   "outputs": [
    {
     "data": {
      "text/plain": [
       "(Lithium Ion                 36\n",
       " Lithium-Ion                  8\n",
       " VRLA                         6\n",
       " Lithium-ion                  4\n",
       " Lithium Ion (Fixed Type)     3\n",
       " Lead Acid                    2\n",
       " BMS Battery                  2\n",
       " LFP                          1\n",
       " Li-ion                       1\n",
       " Lithium Ferro Phosphate      1\n",
       " Lithium ion                  1\n",
       " Lithium-Ion (Fixed Type)     1\n",
       " Name: Battery_type, dtype: int64,\n",
       " Alloy              61\n",
       " Aluminium Alloy     2\n",
       " ALLOY               2\n",
       " Spoke               2\n",
       " Alloy Wheels        1\n",
       " Steel               1\n",
       " Iron Rims           1\n",
       " Name: Wheels_type, dtype: int64)"
      ]
     },
     "execution_count": 10,
     "metadata": {},
     "output_type": "execute_result"
    }
   ],
   "source": [
    "df_2wheeler['Battery_type'].value_counts(), df_2wheeler['Wheels_type'].value_counts()"
   ]
  },
  {
   "cell_type": "code",
   "execution_count": 11,
   "id": "ed5dcd67",
   "metadata": {},
   "outputs": [],
   "source": [
    "df_2wheeler['Battery_type'].replace(to_replace=['Lithium Ion', 'Lithium-Ion', 'Li-ion', 'Lithium ion', 'Lithium-Ion (Fixed Type)', \n",
    "                                'Lithium Ion (Fixed Type)'], value= 'Lithium-ion', inplace=True)\n",
    "df_2wheeler['Wheels_type'].replace(to_replace=['Aluminium Alloy', 'ALLOY', 'Alloy Wheels'], value= 'Alloy', inplace=True)"
   ]
  },
  {
   "cell_type": "code",
   "execution_count": 12,
   "id": "4b5c304a",
   "metadata": {},
   "outputs": [
    {
     "data": {
      "text/plain": [
       "(Lithium-ion                54\n",
       " VRLA                        6\n",
       " Lead Acid                   2\n",
       " BMS Battery                 2\n",
       " LFP                         1\n",
       " Lithium Ferro Phosphate     1\n",
       " Name: Battery_type, dtype: int64,\n",
       " Alloy        66\n",
       " Spoke         2\n",
       " Steel         1\n",
       " Iron Rims     1\n",
       " Name: Wheels_type, dtype: int64)"
      ]
     },
     "execution_count": 12,
     "metadata": {},
     "output_type": "execute_result"
    }
   ],
   "source": [
    "df_2wheeler['Battery_type'].value_counts(), df_2wheeler['Wheels_type'].value_counts()"
   ]
  },
  {
   "cell_type": "markdown",
   "id": "17d3c9d0",
   "metadata": {},
   "source": [
    "### 'Wheels_type' column has 4 Null values. Price above 1 Lakh has 'Alloy' wheels and Below 50,000 has 'Iron Rims'"
   ]
  },
  {
   "cell_type": "code",
   "execution_count": 13,
   "id": "e350bca7",
   "metadata": {
    "scrolled": true
   },
   "outputs": [
    {
     "data": {
      "text/html": [
       "<div>\n",
       "<style scoped>\n",
       "    .dataframe tbody tr th:only-of-type {\n",
       "        vertical-align: middle;\n",
       "    }\n",
       "\n",
       "    .dataframe tbody tr th {\n",
       "        vertical-align: top;\n",
       "    }\n",
       "\n",
       "    .dataframe thead th {\n",
       "        text-align: right;\n",
       "    }\n",
       "</style>\n",
       "<table border=\"1\" class=\"dataframe\">\n",
       "  <thead>\n",
       "    <tr style=\"text-align: right;\">\n",
       "      <th></th>\n",
       "      <th>Model</th>\n",
       "      <th>Price</th>\n",
       "      <th>Range</th>\n",
       "      <th>Top_speed</th>\n",
       "      <th>Motor_type</th>\n",
       "      <th>Battery_type</th>\n",
       "      <th>Battery_capacity</th>\n",
       "      <th>Wheels_type</th>\n",
       "      <th>Tyre_type</th>\n",
       "    </tr>\n",
       "  </thead>\n",
       "  <tbody>\n",
       "    <tr>\n",
       "      <th>24</th>\n",
       "      <td>Komaki XGT KM</td>\n",
       "      <td>0.43</td>\n",
       "      <td>150.0</td>\n",
       "      <td>NaN</td>\n",
       "      <td>BLDC</td>\n",
       "      <td>Lithium-ion</td>\n",
       "      <td>NaN</td>\n",
       "      <td>NaN</td>\n",
       "      <td>Tubeless</td>\n",
       "    </tr>\n",
       "    <tr>\n",
       "      <th>49</th>\n",
       "      <td>Ultraviolette F77</td>\n",
       "      <td>3.80</td>\n",
       "      <td>307.0</td>\n",
       "      <td>152.0</td>\n",
       "      <td>Permanent Magnet AC Motor</td>\n",
       "      <td>Lithium-ion</td>\n",
       "      <td>10.3 kWh</td>\n",
       "      <td>NaN</td>\n",
       "      <td>NaN</td>\n",
       "    </tr>\n",
       "    <tr>\n",
       "      <th>57</th>\n",
       "      <td>Odysse Electric VADER</td>\n",
       "      <td>1.09</td>\n",
       "      <td>NaN</td>\n",
       "      <td>85.0</td>\n",
       "      <td>Hub Motor</td>\n",
       "      <td>Lithium-ion</td>\n",
       "      <td>3.7 Kwh</td>\n",
       "      <td>NaN</td>\n",
       "      <td>NaN</td>\n",
       "    </tr>\n",
       "    <tr>\n",
       "      <th>62</th>\n",
       "      <td>Earth Energy EV Evolve R</td>\n",
       "      <td>1.42</td>\n",
       "      <td>100.0</td>\n",
       "      <td>110.0</td>\n",
       "      <td>PMAC</td>\n",
       "      <td>Lithium-ion</td>\n",
       "      <td>115</td>\n",
       "      <td>NaN</td>\n",
       "      <td>NaN</td>\n",
       "    </tr>\n",
       "  </tbody>\n",
       "</table>\n",
       "</div>"
      ],
      "text/plain": [
       "                       Model  Price  Range  Top_speed  \\\n",
       "24             Komaki XGT KM   0.43  150.0        NaN   \n",
       "49         Ultraviolette F77   3.80  307.0      152.0   \n",
       "57     Odysse Electric VADER   1.09    NaN       85.0   \n",
       "62  Earth Energy EV Evolve R   1.42  100.0      110.0   \n",
       "\n",
       "                   Motor_type Battery_type Battery_capacity Wheels_type  \\\n",
       "24                       BLDC  Lithium-ion              NaN         NaN   \n",
       "49  Permanent Magnet AC Motor  Lithium-ion         10.3 kWh         NaN   \n",
       "57                  Hub Motor  Lithium-ion          3.7 Kwh         NaN   \n",
       "62                       PMAC  Lithium-ion              115         NaN   \n",
       "\n",
       "   Tyre_type  \n",
       "24  Tubeless  \n",
       "49       NaN  \n",
       "57       NaN  \n",
       "62       NaN  "
      ]
     },
     "execution_count": 13,
     "metadata": {},
     "output_type": "execute_result"
    }
   ],
   "source": [
    "df_2wheeler[df_2wheeler['Wheels_type'].isnull()]"
   ]
  },
  {
   "cell_type": "code",
   "execution_count": 14,
   "id": "6a2e5584",
   "metadata": {
    "scrolled": true
   },
   "outputs": [],
   "source": [
    "df_2wheeler['Wheels_type'][24] = 'Iron Rims'\n",
    "df_2wheeler['Wheels_type'][[49,57,62]] = 'Alloy'"
   ]
  },
  {
   "cell_type": "markdown",
   "id": "4df3d90e",
   "metadata": {},
   "source": [
    "### There are 8 Null values and majority of battery type is lithium-ion, so filling Null values with 'Lithium-ion'"
   ]
  },
  {
   "cell_type": "code",
   "execution_count": 15,
   "id": "881a7cd4",
   "metadata": {},
   "outputs": [
    {
     "name": "stdout",
     "output_type": "stream",
     "text": [
      "No. null values: 8\n"
     ]
    },
    {
     "data": {
      "text/plain": [
       "(Lithium-ion                54\n",
       " VRLA                        6\n",
       " Lead Acid                   2\n",
       " BMS Battery                 2\n",
       " LFP                         1\n",
       " Lithium Ferro Phosphate     1\n",
       " Name: Battery_type, dtype: int64,\n",
       " None)"
      ]
     },
     "execution_count": 15,
     "metadata": {},
     "output_type": "execute_result"
    }
   ],
   "source": [
    "df_2wheeler['Battery_type'].value_counts(), print(f\"No. null values: {df_2wheeler['Battery_type'].isnull().sum()}\")"
   ]
  },
  {
   "cell_type": "code",
   "execution_count": 16,
   "id": "ac7ce74d",
   "metadata": {},
   "outputs": [],
   "source": [
    "df_2wheeler['Battery_type'].fillna('Lithium-ion', inplace=True)\n",
    "df_2wheeler['Battery_type'].replace(to_replace='Lithium Ferro Phosphate', value='LFP', inplace=True)"
   ]
  },
  {
   "cell_type": "code",
   "execution_count": 17,
   "id": "03af9184",
   "metadata": {
    "scrolled": true
   },
   "outputs": [
    {
     "data": {
      "text/plain": [
       "Lithium-ion    62\n",
       "VRLA            6\n",
       "LFP             2\n",
       "Lead Acid       2\n",
       "BMS Battery     2\n",
       "Name: Battery_type, dtype: int64"
      ]
     },
     "execution_count": 17,
     "metadata": {},
     "output_type": "execute_result"
    }
   ],
   "source": [
    "df_2wheeler['Battery_type'].value_counts()"
   ]
  },
  {
   "cell_type": "markdown",
   "id": "5b955baf",
   "metadata": {},
   "source": [
    "### There are 11 Null values in column 'Tyre_type'. Filling Null values with 'Tubeless' where Wheels_type has 'Alloy' and 'Tube' where Wheels_type has 'Spoke'"
   ]
  },
  {
   "cell_type": "code",
   "execution_count": 18,
   "id": "eba2a27f",
   "metadata": {
    "scrolled": false
   },
   "outputs": [
    {
     "data": {
      "text/html": [
       "<div>\n",
       "<style scoped>\n",
       "    .dataframe tbody tr th:only-of-type {\n",
       "        vertical-align: middle;\n",
       "    }\n",
       "\n",
       "    .dataframe tbody tr th {\n",
       "        vertical-align: top;\n",
       "    }\n",
       "\n",
       "    .dataframe thead th {\n",
       "        text-align: right;\n",
       "    }\n",
       "</style>\n",
       "<table border=\"1\" class=\"dataframe\">\n",
       "  <thead>\n",
       "    <tr style=\"text-align: right;\">\n",
       "      <th></th>\n",
       "      <th>Model</th>\n",
       "      <th>Price</th>\n",
       "      <th>Range</th>\n",
       "      <th>Top_speed</th>\n",
       "      <th>Motor_type</th>\n",
       "      <th>Battery_type</th>\n",
       "      <th>Battery_capacity</th>\n",
       "      <th>Wheels_type</th>\n",
       "      <th>Tyre_type</th>\n",
       "    </tr>\n",
       "  </thead>\n",
       "  <tbody>\n",
       "    <tr>\n",
       "      <th>7</th>\n",
       "      <td>Hero Electric Optima</td>\n",
       "      <td>0.67</td>\n",
       "      <td>140.0</td>\n",
       "      <td>45.0</td>\n",
       "      <td>BLDC</td>\n",
       "      <td>Lithium-ion</td>\n",
       "      <td>1.54</td>\n",
       "      <td>Alloy</td>\n",
       "      <td>NaN</td>\n",
       "    </tr>\n",
       "    <tr>\n",
       "      <th>8</th>\n",
       "      <td>Ampere Magnus EX</td>\n",
       "      <td>0.84</td>\n",
       "      <td>121.0</td>\n",
       "      <td>50.0</td>\n",
       "      <td>BLDC</td>\n",
       "      <td>Lithium-ion</td>\n",
       "      <td>2.3</td>\n",
       "      <td>Alloy</td>\n",
       "      <td>NaN</td>\n",
       "    </tr>\n",
       "    <tr>\n",
       "      <th>14</th>\n",
       "      <td>River Indie</td>\n",
       "      <td>1.25</td>\n",
       "      <td>120.0</td>\n",
       "      <td>90.0</td>\n",
       "      <td>Mid-Drive PMSM</td>\n",
       "      <td>Lithium-ion</td>\n",
       "      <td>4 kWh</td>\n",
       "      <td>Alloy</td>\n",
       "      <td>NaN</td>\n",
       "    </tr>\n",
       "    <tr>\n",
       "      <th>49</th>\n",
       "      <td>Ultraviolette F77</td>\n",
       "      <td>3.80</td>\n",
       "      <td>307.0</td>\n",
       "      <td>152.0</td>\n",
       "      <td>Permanent Magnet AC Motor</td>\n",
       "      <td>Lithium-ion</td>\n",
       "      <td>10.3 kWh</td>\n",
       "      <td>Alloy</td>\n",
       "      <td>NaN</td>\n",
       "    </tr>\n",
       "    <tr>\n",
       "      <th>53</th>\n",
       "      <td>Matter Aera</td>\n",
       "      <td>1.43</td>\n",
       "      <td>125.0</td>\n",
       "      <td>NaN</td>\n",
       "      <td>BLDC</td>\n",
       "      <td>Lithium-ion</td>\n",
       "      <td>5 kWh</td>\n",
       "      <td>Alloy</td>\n",
       "      <td>NaN</td>\n",
       "    </tr>\n",
       "    <tr>\n",
       "      <th>54</th>\n",
       "      <td>One Electric Motorcycles Kridn</td>\n",
       "      <td>1.35</td>\n",
       "      <td>110.0</td>\n",
       "      <td>95.0</td>\n",
       "      <td>PMAC</td>\n",
       "      <td>Lithium-ion</td>\n",
       "      <td>3 kWh</td>\n",
       "      <td>Alloy</td>\n",
       "      <td>NaN</td>\n",
       "    </tr>\n",
       "    <tr>\n",
       "      <th>57</th>\n",
       "      <td>Odysse Electric VADER</td>\n",
       "      <td>1.09</td>\n",
       "      <td>NaN</td>\n",
       "      <td>85.0</td>\n",
       "      <td>Hub Motor</td>\n",
       "      <td>Lithium-ion</td>\n",
       "      <td>3.7 Kwh</td>\n",
       "      <td>Alloy</td>\n",
       "      <td>NaN</td>\n",
       "    </tr>\n",
       "    <tr>\n",
       "      <th>61</th>\n",
       "      <td>Earth Energy EV Evolve Z</td>\n",
       "      <td>1.30</td>\n",
       "      <td>100.0</td>\n",
       "      <td>95.0</td>\n",
       "      <td>PMAC</td>\n",
       "      <td>Lithium-ion</td>\n",
       "      <td>96</td>\n",
       "      <td>Alloy</td>\n",
       "      <td>NaN</td>\n",
       "    </tr>\n",
       "    <tr>\n",
       "      <th>62</th>\n",
       "      <td>Earth Energy EV Evolve R</td>\n",
       "      <td>1.42</td>\n",
       "      <td>100.0</td>\n",
       "      <td>110.0</td>\n",
       "      <td>PMAC</td>\n",
       "      <td>Lithium-ion</td>\n",
       "      <td>115</td>\n",
       "      <td>Alloy</td>\n",
       "      <td>NaN</td>\n",
       "    </tr>\n",
       "    <tr>\n",
       "      <th>63</th>\n",
       "      <td>Atumobile Atum Version 1.0</td>\n",
       "      <td>0.75</td>\n",
       "      <td>100.0</td>\n",
       "      <td>25.0</td>\n",
       "      <td>DC Brushless</td>\n",
       "      <td>Lithium-ion</td>\n",
       "      <td>1.248 kWh</td>\n",
       "      <td>Spoke</td>\n",
       "      <td>NaN</td>\n",
       "    </tr>\n",
       "    <tr>\n",
       "      <th>71</th>\n",
       "      <td>Komaki XGT Classic</td>\n",
       "      <td>1.11</td>\n",
       "      <td>105.0</td>\n",
       "      <td>NaN</td>\n",
       "      <td>BLDC</td>\n",
       "      <td>Lithium-ion</td>\n",
       "      <td>NaN</td>\n",
       "      <td>Alloy</td>\n",
       "      <td>NaN</td>\n",
       "    </tr>\n",
       "  </tbody>\n",
       "</table>\n",
       "</div>"
      ],
      "text/plain": [
       "                             Model  Price  Range  Top_speed  \\\n",
       "7             Hero Electric Optima   0.67  140.0       45.0   \n",
       "8                 Ampere Magnus EX   0.84  121.0       50.0   \n",
       "14                     River Indie   1.25  120.0       90.0   \n",
       "49               Ultraviolette F77   3.80  307.0      152.0   \n",
       "53                     Matter Aera   1.43  125.0        NaN   \n",
       "54  One Electric Motorcycles Kridn   1.35  110.0       95.0   \n",
       "57           Odysse Electric VADER   1.09    NaN       85.0   \n",
       "61        Earth Energy EV Evolve Z   1.30  100.0       95.0   \n",
       "62        Earth Energy EV Evolve R   1.42  100.0      110.0   \n",
       "63      Atumobile Atum Version 1.0   0.75  100.0       25.0   \n",
       "71              Komaki XGT Classic   1.11  105.0        NaN   \n",
       "\n",
       "                   Motor_type Battery_type Battery_capacity Wheels_type  \\\n",
       "7                        BLDC  Lithium-ion             1.54       Alloy   \n",
       "8                        BLDC  Lithium-ion              2.3       Alloy   \n",
       "14             Mid-Drive PMSM  Lithium-ion            4 kWh       Alloy   \n",
       "49  Permanent Magnet AC Motor  Lithium-ion         10.3 kWh       Alloy   \n",
       "53                       BLDC  Lithium-ion            5 kWh       Alloy   \n",
       "54                       PMAC  Lithium-ion            3 kWh       Alloy   \n",
       "57                  Hub Motor  Lithium-ion          3.7 Kwh       Alloy   \n",
       "61                       PMAC  Lithium-ion               96       Alloy   \n",
       "62                       PMAC  Lithium-ion              115       Alloy   \n",
       "63               DC Brushless  Lithium-ion        1.248 kWh       Spoke   \n",
       "71                       BLDC  Lithium-ion              NaN       Alloy   \n",
       "\n",
       "   Tyre_type  \n",
       "7        NaN  \n",
       "8        NaN  \n",
       "14       NaN  \n",
       "49       NaN  \n",
       "53       NaN  \n",
       "54       NaN  \n",
       "57       NaN  \n",
       "61       NaN  \n",
       "62       NaN  \n",
       "63       NaN  \n",
       "71       NaN  "
      ]
     },
     "execution_count": 18,
     "metadata": {},
     "output_type": "execute_result"
    }
   ],
   "source": [
    "df_2wheeler[df_2wheeler['Tyre_type'].isnull()]"
   ]
  },
  {
   "cell_type": "code",
   "execution_count": 19,
   "id": "5a167972",
   "metadata": {},
   "outputs": [
    {
     "data": {
      "text/plain": [
       "Tubeless    54\n",
       "Tube         9\n",
       "Name: Tyre_type, dtype: int64"
      ]
     },
     "execution_count": 19,
     "metadata": {},
     "output_type": "execute_result"
    }
   ],
   "source": [
    "df_2wheeler['Tyre_type'].value_counts()"
   ]
  },
  {
   "cell_type": "code",
   "execution_count": 20,
   "id": "620de8c8",
   "metadata": {},
   "outputs": [],
   "source": [
    "df_2wheeler['Tyre_type'][63] = 'Tube'\n",
    "df_2wheeler['Tyre_type'].fillna('Tubeless', inplace=True)"
   ]
  },
  {
   "cell_type": "code",
   "execution_count": 21,
   "id": "a0aaf39a",
   "metadata": {},
   "outputs": [
    {
     "data": {
      "text/plain": [
       "Tubeless    64\n",
       "Tube        10\n",
       "Name: Tyre_type, dtype: int64"
      ]
     },
     "execution_count": 21,
     "metadata": {},
     "output_type": "execute_result"
    }
   ],
   "source": [
    "df_2wheeler['Tyre_type'].value_counts()"
   ]
  },
  {
   "cell_type": "markdown",
   "id": "b380c58f",
   "metadata": {},
   "source": [
    "### Replaced similar motor type name into one category"
   ]
  },
  {
   "cell_type": "code",
   "execution_count": 22,
   "id": "c46c129e",
   "metadata": {},
   "outputs": [
    {
     "data": {
      "text/plain": [
       "BLDC                         48\n",
       "PMAC                          5\n",
       "Brushless DC                  4\n",
       "DC Brushless                  4\n",
       "PMSM                          3\n",
       "Mid Drive IPM                 2\n",
       "Hub Motor                     2\n",
       "Mid-Drive PMSM                1\n",
       "Mid Drive                     1\n",
       "Permanent Magnet AC Motor     1\n",
       "IPMSM Motor                   1\n",
       "DC Brushless Hub Motor        1\n",
       "BLDC Hub motor                1\n",
       "Name: Motor_type, dtype: int64"
      ]
     },
     "execution_count": 22,
     "metadata": {},
     "output_type": "execute_result"
    }
   ],
   "source": [
    "df_2wheeler['Motor_type'].value_counts()"
   ]
  },
  {
   "cell_type": "code",
   "execution_count": 23,
   "id": "ddb71e14",
   "metadata": {},
   "outputs": [],
   "source": [
    "df_2wheeler['Motor_type'].replace(to_replace=['Brushless DC', 'DC Brushless Hub Motor'], value= 'DC Brushless', inplace=True)\n",
    "df_2wheeler['Motor_type'].replace(to_replace=['Hub Motor', 'BLDC'], value= 'BLDC Hub motor', inplace=True)\n",
    "df_2wheeler['Motor_type'].replace(to_replace=['Mid Drive IPM', 'PMSM', 'Mid-Drive PMSM'], value= 'Mid Drive', inplace=True)\n",
    "df_2wheeler['Motor_type'].replace(to_replace=['Permanent Magnet AC Motor', '3000'], value= 'PMAC', inplace=True)"
   ]
  },
  {
   "cell_type": "code",
   "execution_count": 24,
   "id": "027c31bc",
   "metadata": {},
   "outputs": [
    {
     "data": {
      "text/plain": [
       "BLDC Hub motor    51\n",
       "DC Brushless       9\n",
       "Mid Drive          7\n",
       "PMAC               6\n",
       "IPMSM Motor        1\n",
       "Name: Motor_type, dtype: int64"
      ]
     },
     "execution_count": 24,
     "metadata": {},
     "output_type": "execute_result"
    }
   ],
   "source": [
    "df_2wheeler['Motor_type'].value_counts()"
   ]
  },
  {
   "cell_type": "code",
   "execution_count": 25,
   "id": "c1d7b2fc",
   "metadata": {},
   "outputs": [],
   "source": [
    "df_2wheeler['Battery_capacity'] = df_2wheeler['Battery_capacity'].str.replace(' kwh', '')\n",
    "df_2wheeler['Battery_capacity'] = df_2wheeler['Battery_capacity'].str.replace(' kWh', '')\n",
    "df_2wheeler['Battery_capacity'] = df_2wheeler['Battery_capacity'].str.replace(' kWH', '')\n",
    "df_2wheeler['Battery_capacity'] = df_2wheeler['Battery_capacity'].str.replace(' Kwh', '')\n",
    "df_2wheeler['Battery_capacity'] = df_2wheeler['Battery_capacity'].str.replace(' KWh', '')\n",
    "df_2wheeler['Battery_capacity'] = df_2wheeler['Battery_capacity'].str.replace(' KWH', '')"
   ]
  },
  {
   "cell_type": "code",
   "execution_count": 26,
   "id": "77c769c0",
   "metadata": {},
   "outputs": [],
   "source": [
    "df_2wheeler['Battery_capacity'] = df_2wheeler['Battery_capacity'].astype('float')\n",
    "df_2wheeler['Battery_capacity'] = round(df_2wheeler['Battery_capacity'].fillna(df_2wheeler['Battery_capacity'].mean()),2)"
   ]
  },
  {
   "cell_type": "markdown",
   "id": "46a82c5f",
   "metadata": {},
   "source": [
    "### Filling null values in Top speed and Range Column"
   ]
  },
  {
   "cell_type": "code",
   "execution_count": 27,
   "id": "8624aa34",
   "metadata": {},
   "outputs": [],
   "source": [
    "df_2wheeler['Top_speed'] = round(df_2wheeler['Top_speed'].fillna(df_2wheeler['Top_speed'].mean()),2)\n",
    "df_2wheeler['Range'] = round(df_2wheeler['Range'].fillna(df_2wheeler['Range'].mean()),2)"
   ]
  },
  {
   "cell_type": "markdown",
   "id": "927fb746",
   "metadata": {},
   "source": [
    "### Exploring the Data"
   ]
  },
  {
   "cell_type": "code",
   "execution_count": 28,
   "id": "fb5e12df",
   "metadata": {},
   "outputs": [
    {
     "data": {
      "image/png": "[encoded data removed]",
      "text/plain": [
       "<Figure size 720x432 with 1 Axes>"
      ]
     },
     "metadata": {},
     "output_type": "display_data"
    }
   ],
   "source": [
    "sns.set(style=\"whitegrid\")\n",
    "plt.figure(figsize=(10, 6))\n",
    "sns.scatterplot(x=\"Age\", y=\"Salary\", data=df_behaviour)\n",
    "plt.title(\"Age vs Salary\", fontsize=16)\n",
    "plt.xlabel(\"Age\", fontsize=12)\n",
    "plt.ylabel(\"Salary\", fontsize=12)\n",
    "plt.show()"
   ]
  },
  {
   "cell_type": "code",
   "execution_count": 29,
   "id": "42846a09",
   "metadata": {},
   "outputs": [
    {
     "data": {
      "image/png": "[encoded data removed]",
      "text/plain": [
       "<Figure size 432x288 with 1 Axes>"
      ]
     },
     "metadata": {},
     "output_type": "display_data"
    }
   ],
   "source": [
    "sns.boxplot(x=\"Education\", y=\"Salary\", data=df_behaviour)\n",
    "plt.show()"
   ]
  },
  {
   "cell_type": "code",
   "execution_count": 30,
   "id": "6b9c2362",
   "metadata": {},
   "outputs": [
    {
     "data": {
      "image/png": "[encoded data removed]",
      "text/plain": [
       "<Figure size 720x432 with 1 Axes>"
      ]
     },
     "metadata": {},
     "output_type": "display_data"
    }
   ],
   "source": [
    "plt.figure(figsize=(10, 6))\n",
    "sns.boxplot(data=df_behaviour, x='Age', y='No of Dependents')\n",
    "plt.title('Age vs No of Dependents')\n",
    "plt.xlabel('Age')\n",
    "plt.ylabel('No of Dependents')\n",
    "plt.show()"
   ]
  },
  {
   "cell_type": "code",
   "execution_count": 31,
   "id": "f448cda1",
   "metadata": {},
   "outputs": [
    {
     "data": {
      "image/png": "[encoded data removed]",
      "text/plain": [
       "<Figure size 432x288 with 1 Axes>"
      ]
     },
     "metadata": {},
     "output_type": "display_data"
    }
   ],
   "source": [
    "sns.countplot(x='Marrital Status', hue='Personal loan', data=df_behaviour)\n",
    "plt.show()"
   ]
  },
  {
   "cell_type": "code",
   "execution_count": 32,
   "id": "09130304",
   "metadata": {},
   "outputs": [
    {
     "data": {
      "image/png": "[encoded data removed]",
      "text/plain": [
       "<Figure size 720x432 with 1 Axes>"
      ]
     },
     "metadata": {},
     "output_type": "display_data"
    }
   ],
   "source": [
    "plt.figure(figsize=(10, 6))\n",
    "plt.scatter(df_behaviour['Salary'], df_behaviour['Total Salary'])\n",
    "plt.xlabel('Salary')\n",
    "plt.ylabel('Total Salary')\n",
    "plt.show()"
   ]
  },
  {
   "cell_type": "code",
   "execution_count": 33,
   "id": "fd531244",
   "metadata": {},
   "outputs": [
    {
     "data": {
      "image/png": "[encoded data removed]",
      "text/plain": [
       "<Figure size 720x432 with 2 Axes>"
      ]
     },
     "metadata": {},
     "output_type": "display_data"
    }
   ],
   "source": [
    "plt.figure(figsize=(10, 6))\n",
    "pivot_table = df_behaviour.pivot_table(index='No of Dependents', columns='Personal loan', values='Age', aggfunc='count')\n",
    "sns.heatmap(pivot_table, cmap='coolwarm', annot=True, fmt='g')\n",
    "plt.title('No of Dependents vs Personal loan')\n",
    "plt.show()"
   ]
  },
  {
   "cell_type": "code",
   "execution_count": 34,
   "id": "bf992d69",
   "metadata": {},
   "outputs": [
    {
     "data": {
      "image/png": "[encoded data removed]",
      "text/plain": [
       "<Figure size 576x720 with 1 Axes>"
      ]
     },
     "metadata": {},
     "output_type": "display_data"
    }
   ],
   "source": [
    "plt.figure(figsize=(8, 10))\n",
    "sns.barplot(data=charging_station, y=charging_station['State Name'].sort_values(ascending=True), x='Number of PCS', palette='viridis')\n",
    "plt.ylabel('State', fontsize=14)\n",
    "plt.xlabel('Number of PCS', fontsize=14, labelpad=10)\n",
    "plt.title(label='Statewise Charging Station (2 Wheelers) in India', weight=200, size=15, pad=12)\n",
    "plt.show()"
   ]
  },
  {
   "cell_type": "code",
   "execution_count": 35,
   "id": "4be5b141",
   "metadata": {},
   "outputs": [
    {
     "data": {
      "text/html": [
       "<div>\n",
       "<style scoped>\n",
       "    .dataframe tbody tr th:only-of-type {\n",
       "        vertical-align: middle;\n",
       "    }\n",
       "\n",
       "    .dataframe tbody tr th {\n",
       "        vertical-align: top;\n",
       "    }\n",
       "\n",
       "    .dataframe thead th {\n",
       "        text-align: right;\n",
       "    }\n",
       "</style>\n",
       "<table border=\"1\" class=\"dataframe\">\n",
       "  <thead>\n",
       "    <tr style=\"text-align: right;\">\n",
       "      <th></th>\n",
       "      <th>Maker</th>\n",
       "      <th>Apr</th>\n",
       "      <th>May</th>\n",
       "      <th>Jun</th>\n",
       "      <th>Jul</th>\n",
       "      <th>Aug</th>\n",
       "      <th>Sep</th>\n",
       "      <th>Oct</th>\n",
       "      <th>Nov</th>\n",
       "      <th>Dec</th>\n",
       "      <th>Jan</th>\n",
       "      <th>Feb</th>\n",
       "      <th>March</th>\n",
       "      <th>Total Sale</th>\n",
       "    </tr>\n",
       "  </thead>\n",
       "  <tbody>\n",
       "    <tr>\n",
       "      <th>0</th>\n",
       "      <td>OLA ELECTRIC</td>\n",
       "      <td>12708</td>\n",
       "      <td>9268</td>\n",
       "      <td>5898</td>\n",
       "      <td>3864</td>\n",
       "      <td>3476</td>\n",
       "      <td>9896</td>\n",
       "      <td>16353</td>\n",
       "      <td>16385</td>\n",
       "      <td>17362</td>\n",
       "      <td>18338</td>\n",
       "      <td>17720</td>\n",
       "      <td>21299</td>\n",
       "      <td>152567</td>\n",
       "    </tr>\n",
       "    <tr>\n",
       "      <th>1</th>\n",
       "      <td>OKINAWA</td>\n",
       "      <td>11012</td>\n",
       "      <td>9307</td>\n",
       "      <td>6984</td>\n",
       "      <td>8098</td>\n",
       "      <td>8679</td>\n",
       "      <td>8498</td>\n",
       "      <td>14945</td>\n",
       "      <td>9065</td>\n",
       "      <td>5282</td>\n",
       "      <td>4408</td>\n",
       "      <td>3846</td>\n",
       "      <td>4507</td>\n",
       "      <td>94631</td>\n",
       "    </tr>\n",
       "    <tr>\n",
       "      <th>2</th>\n",
       "      <td>HERO ELECTRIC</td>\n",
       "      <td>6804</td>\n",
       "      <td>2971</td>\n",
       "      <td>6837</td>\n",
       "      <td>9306</td>\n",
       "      <td>10820</td>\n",
       "      <td>8210</td>\n",
       "      <td>8869</td>\n",
       "      <td>9027</td>\n",
       "      <td>8101</td>\n",
       "      <td>6399</td>\n",
       "      <td>5865</td>\n",
       "      <td>6653</td>\n",
       "      <td>89862</td>\n",
       "    </tr>\n",
       "    <tr>\n",
       "      <th>3</th>\n",
       "      <td>AMPERE</td>\n",
       "      <td>6865</td>\n",
       "      <td>6179</td>\n",
       "      <td>6920</td>\n",
       "      <td>6813</td>\n",
       "      <td>6773</td>\n",
       "      <td>6478</td>\n",
       "      <td>10077</td>\n",
       "      <td>12260</td>\n",
       "      <td>4422</td>\n",
       "      <td>4371</td>\n",
       "      <td>5850</td>\n",
       "      <td>9343</td>\n",
       "      <td>86351</td>\n",
       "    </tr>\n",
       "    <tr>\n",
       "      <th>4</th>\n",
       "      <td>TVS</td>\n",
       "      <td>1498</td>\n",
       "      <td>480</td>\n",
       "      <td>1980</td>\n",
       "      <td>4347</td>\n",
       "      <td>6412</td>\n",
       "      <td>3994</td>\n",
       "      <td>5811</td>\n",
       "      <td>8132</td>\n",
       "      <td>9358</td>\n",
       "      <td>10460</td>\n",
       "      <td>12649</td>\n",
       "      <td>16779</td>\n",
       "      <td>81900</td>\n",
       "    </tr>\n",
       "  </tbody>\n",
       "</table>\n",
       "</div>"
      ],
      "text/plain": [
       "           Maker    Apr   May   Jun   Jul    Aug   Sep    Oct    Nov    Dec  \\\n",
       "0   OLA ELECTRIC  12708  9268  5898  3864   3476  9896  16353  16385  17362   \n",
       "1        OKINAWA  11012  9307  6984  8098   8679  8498  14945   9065   5282   \n",
       "2  HERO ELECTRIC   6804  2971  6837  9306  10820  8210   8869   9027   8101   \n",
       "3         AMPERE   6865  6179  6920  6813   6773  6478  10077  12260   4422   \n",
       "4            TVS   1498   480  1980  4347   6412  3994   5811   8132   9358   \n",
       "\n",
       "     Jan    Feb  March  Total Sale  \n",
       "0  18338  17720  21299      152567  \n",
       "1   4408   3846   4507       94631  \n",
       "2   6399   5865   6653       89862  \n",
       "3   4371   5850   9343       86351  \n",
       "4  10460  12649  16779       81900  "
      ]
     },
     "execution_count": 35,
     "metadata": {},
     "output_type": "execute_result"
    }
   ],
   "source": [
    "sale.head()"
   ]
  },
  {
   "cell_type": "code",
   "execution_count": 36,
   "id": "72599798",
   "metadata": {
    "scrolled": false
   },
   "outputs": [
    {
     "data": {
      "image/png": "[encoded data removed]",
      "text/plain": [
       "<Figure size 864x432 with 1 Axes>"
      ]
     },
     "metadata": {},
     "output_type": "display_data"
    }
   ],
   "source": [
    "sns.catplot(kind='bar', data=sale, x='Maker', y='Total Sale', palette='viridis', ci=None, height=6, aspect=2)\n",
    "plt.tick_params(axis='x', rotation=40)\n",
    "plt.xlabel('Brand',family='serif', size=12)\n",
    "plt.ylabel('Total Sale', family='serif', size=12)\n",
    "plt.xticks(family='serif')\n",
    "plt.yticks(family='serif')\n",
    "plt.title('Brand-wise Total Sale', family='serif', size=15);"
   ]
  },
  {
   "cell_type": "code",
   "execution_count": 37,
   "id": "92b23784",
   "metadata": {},
   "outputs": [
    {
     "data": {
      "image/png": "[encoded data removed]",
      "text/plain": [
       "<Figure size 1728x432 with 1 Axes>"
      ]
     },
     "metadata": {},
     "output_type": "display_data"
    }
   ],
   "source": [
    "sns.catplot(data=df_2wheeler, y='Range', x='Battery_capacity', kind='bar', height=6, aspect=4)\n",
    "plt.ylabel('Range')\n",
    "plt.xlabel('Battery_capacity')\n",
    "plt.show()"
   ]
  },
  {
   "cell_type": "code",
   "execution_count": 47,
   "id": "ce9b668c",
   "metadata": {},
   "outputs": [
    {
     "data": {
      "text/html": [
       "<div>\n",
       "<style scoped>\n",
       "    .dataframe tbody tr th:only-of-type {\n",
       "        vertical-align: middle;\n",
       "    }\n",
       "\n",
       "    .dataframe tbody tr th {\n",
       "        vertical-align: top;\n",
       "    }\n",
       "\n",
       "    .dataframe thead th {\n",
       "        text-align: right;\n",
       "    }\n",
       "</style>\n",
       "<table border=\"1\" class=\"dataframe\">\n",
       "  <thead>\n",
       "    <tr style=\"text-align: right;\">\n",
       "      <th></th>\n",
       "      <th>Model</th>\n",
       "      <th>Price</th>\n",
       "      <th>Range</th>\n",
       "      <th>Top_speed</th>\n",
       "      <th>Motor_type</th>\n",
       "      <th>Battery_type</th>\n",
       "      <th>Battery_capacity</th>\n",
       "      <th>Wheels_type</th>\n",
       "      <th>Tyre_type</th>\n",
       "    </tr>\n",
       "  </thead>\n",
       "  <tbody>\n",
       "    <tr>\n",
       "      <th>0</th>\n",
       "      <td>Ola S1</td>\n",
       "      <td>1.00</td>\n",
       "      <td>128.0</td>\n",
       "      <td>95.0</td>\n",
       "      <td>Mid Drive</td>\n",
       "      <td>Lithium-ion</td>\n",
       "      <td>3.00</td>\n",
       "      <td>Alloy</td>\n",
       "      <td>Tubeless</td>\n",
       "    </tr>\n",
       "    <tr>\n",
       "      <th>1</th>\n",
       "      <td>TVS iQube Electric</td>\n",
       "      <td>1.60</td>\n",
       "      <td>100.0</td>\n",
       "      <td>78.0</td>\n",
       "      <td>BLDC Hub motor</td>\n",
       "      <td>Lithium-ion</td>\n",
       "      <td>3.04</td>\n",
       "      <td>Alloy</td>\n",
       "      <td>Tubeless</td>\n",
       "    </tr>\n",
       "    <tr>\n",
       "      <th>2</th>\n",
       "      <td>Ather 450X</td>\n",
       "      <td>0.98</td>\n",
       "      <td>146.0</td>\n",
       "      <td>90.0</td>\n",
       "      <td>Mid Drive</td>\n",
       "      <td>Lithium-ion</td>\n",
       "      <td>3.70</td>\n",
       "      <td>Alloy</td>\n",
       "      <td>Tubeless</td>\n",
       "    </tr>\n",
       "    <tr>\n",
       "      <th>3</th>\n",
       "      <td>Bajaj Chetak</td>\n",
       "      <td>1.22</td>\n",
       "      <td>90.0</td>\n",
       "      <td>63.0</td>\n",
       "      <td>BLDC Hub motor</td>\n",
       "      <td>Lithium-ion</td>\n",
       "      <td>3.04</td>\n",
       "      <td>Alloy</td>\n",
       "      <td>Tubeless</td>\n",
       "    </tr>\n",
       "    <tr>\n",
       "      <th>4</th>\n",
       "      <td>Ola S1 Pro</td>\n",
       "      <td>1.24</td>\n",
       "      <td>181.0</td>\n",
       "      <td>116.0</td>\n",
       "      <td>Mid Drive</td>\n",
       "      <td>Lithium-ion</td>\n",
       "      <td>4.00</td>\n",
       "      <td>Alloy</td>\n",
       "      <td>Tubeless</td>\n",
       "    </tr>\n",
       "  </tbody>\n",
       "</table>\n",
       "</div>"
      ],
      "text/plain": [
       "                Model  Price  Range  Top_speed      Motor_type Battery_type  \\\n",
       "0              Ola S1   1.00  128.0       95.0       Mid Drive  Lithium-ion   \n",
       "1  TVS iQube Electric   1.60  100.0       78.0  BLDC Hub motor  Lithium-ion   \n",
       "2          Ather 450X   0.98  146.0       90.0       Mid Drive  Lithium-ion   \n",
       "3        Bajaj Chetak   1.22   90.0       63.0  BLDC Hub motor  Lithium-ion   \n",
       "4          Ola S1 Pro   1.24  181.0      116.0       Mid Drive  Lithium-ion   \n",
       "\n",
       "   Battery_capacity Wheels_type Tyre_type  \n",
       "0              3.00       Alloy  Tubeless  \n",
       "1              3.04       Alloy  Tubeless  \n",
       "2              3.70       Alloy  Tubeless  \n",
       "3              3.04       Alloy  Tubeless  \n",
       "4              4.00       Alloy  Tubeless  "
      ]
     },
     "execution_count": 47,
     "metadata": {},
     "output_type": "execute_result"
    }
   ],
   "source": [
    "df_2wheeler.head()"
   ]
  },
  {
   "cell_type": "code",
   "execution_count": 48,
   "id": "9b75c646",
   "metadata": {
    "scrolled": false
   },
   "outputs": [
    {
     "data": {
      "image/png": "[encoded data removed]",
      "text/plain": [
       "<Figure size 720x432 with 1 Axes>"
      ]
     },
     "metadata": {},
     "output_type": "display_data"
    }
   ],
   "source": [
    "plt.figure(figsize=(10, 6))\n",
    "sns.histplot(data=df_2wheeler, x='Price', bins=15, kde=True)\n",
    "plt.title('Price Distribution for Budget Buyers')\n",
    "plt.xlabel('Price (in lakhs)')\n",
    "plt.ylabel('Frequency')\n",
    "plt.show()"
   ]
  },
  {
   "cell_type": "code",
   "execution_count": 65,
   "id": "3552d6e8",
   "metadata": {},
   "outputs": [
    {
     "data": {
      "image/png": "[encoded data removed]",
      "text/plain": [
       "<Figure size 720x432 with 1 Axes>"
      ]
     },
     "metadata": {},
     "output_type": "display_data"
    }
   ],
   "source": [
    "plt.figure(figsize=(10, 6))\n",
    "sns.scatterplot(data=df_2wheeler, x='Range', y='Top_speed')\n",
    "plt.title('Range vs. Top Speed for Budget Buyers')\n",
    "plt.xlabel('Range (in km)')\n",
    "plt.ylabel('Top Speed (in km/h)')\n",
    "plt.show()"
   ]
  },
  {
   "cell_type": "markdown",
   "id": "6095e0bf",
   "metadata": {},
   "source": [
    "### Preprocessing the Data"
   ]
  },
  {
   "cell_type": "code",
   "execution_count": 38,
   "id": "a2e7ece1",
   "metadata": {},
   "outputs": [],
   "source": [
    "X = df_2wheeler.drop(labels='Model',axis=1)"
   ]
  },
  {
   "cell_type": "code",
   "execution_count": 39,
   "id": "6b8877d3",
   "metadata": {},
   "outputs": [],
   "source": [
    "le = LabelEncoder()\n",
    "X['Motor_type'] = le.fit_transform(X['Motor_type'])\n",
    "X['Battery_type'] = le.fit_transform(X['Battery_type'])\n",
    "X['Wheels_type'] = le.fit_transform(X['Wheels_type'])\n",
    "X['Tyre_type'] = le.fit_transform(X['Tyre_type'])"
   ]
  },
  {
   "cell_type": "code",
   "execution_count": 40,
   "id": "2fdb171f",
   "metadata": {},
   "outputs": [],
   "source": [
    "scaler = StandardScaler()\n",
    "X_scaled = scaler.fit_transform(X)"
   ]
  },
  {
   "cell_type": "code",
   "execution_count": 68,
   "id": "1b737e24",
   "metadata": {},
   "outputs": [],
   "source": [
    "pca = PCA(0.95)\n",
    "X_pca = pca.fit_transform(X)"
   ]
  },
  {
   "cell_type": "code",
   "execution_count": 70,
   "id": "fd643ec3",
   "metadata": {},
   "outputs": [
    {
     "data": {
      "text/html": [
       "<div>\n",
       "<style scoped>\n",
       "    .dataframe tbody tr th:only-of-type {\n",
       "        vertical-align: middle;\n",
       "    }\n",
       "\n",
       "    .dataframe tbody tr th {\n",
       "        vertical-align: top;\n",
       "    }\n",
       "\n",
       "    .dataframe thead th {\n",
       "        text-align: right;\n",
       "    }\n",
       "</style>\n",
       "<table border=\"1\" class=\"dataframe\">\n",
       "  <thead>\n",
       "    <tr style=\"text-align: right;\">\n",
       "      <th></th>\n",
       "      <th>PC1</th>\n",
       "      <th>PC2</th>\n",
       "      <th>PC3</th>\n",
       "    </tr>\n",
       "  </thead>\n",
       "  <tbody>\n",
       "    <tr>\n",
       "      <th>0</th>\n",
       "      <td>26.528028</td>\n",
       "      <td>15.026070</td>\n",
       "      <td>-12.423551</td>\n",
       "    </tr>\n",
       "    <tr>\n",
       "      <th>1</th>\n",
       "      <td>-6.030683</td>\n",
       "      <td>12.273528</td>\n",
       "      <td>-9.712652</td>\n",
       "    </tr>\n",
       "    <tr>\n",
       "      <th>2</th>\n",
       "      <td>40.798356</td>\n",
       "      <td>4.638433</td>\n",
       "      <td>-6.266112</td>\n",
       "    </tr>\n",
       "    <tr>\n",
       "      <th>3</th>\n",
       "      <td>-21.382024</td>\n",
       "      <td>4.302748</td>\n",
       "      <td>-4.630247</td>\n",
       "    </tr>\n",
       "    <tr>\n",
       "      <th>4</th>\n",
       "      <td>83.450224</td>\n",
       "      <td>11.911363</td>\n",
       "      <td>-11.621011</td>\n",
       "    </tr>\n",
       "  </tbody>\n",
       "</table>\n",
       "</div>"
      ],
      "text/plain": [
       "         PC1        PC2        PC3\n",
       "0  26.528028  15.026070 -12.423551\n",
       "1  -6.030683  12.273528  -9.712652\n",
       "2  40.798356   4.638433  -6.266112\n",
       "3 -21.382024   4.302748  -4.630247\n",
       "4  83.450224  11.911363 -11.621011"
      ]
     },
     "execution_count": 70,
     "metadata": {},
     "output_type": "execute_result"
    }
   ],
   "source": [
    "df_pca = pd.DataFrame(X_pca, columns=['PC1', 'PC2', 'PC3'])\n",
    "df_pca.head()"
   ]
  },
  {
   "cell_type": "code",
   "execution_count": 71,
   "id": "d6e927a9",
   "metadata": {},
   "outputs": [
    {
     "data": {
      "image/png": "[encoded data removed]",
      "text/plain": [
       "<Figure size 576x432 with 1 Axes>"
      ]
     },
     "metadata": {},
     "output_type": "display_data"
    }
   ],
   "source": [
    "wcss = []\n",
    "for i in range(1, 11):\n",
    "  kmean = KMeans(n_clusters=i, init='k-means++', random_state=90)\n",
    "  kmean.fit(X_pca)\n",
    "  wcss.append(kmean.inertia_)\n",
    "plt.figure(figsize=(8,6))\n",
    "plt.title('Plot of the Elbow Method', size=15)\n",
    "plt.plot(range(1, 11), wcss)\n",
    "plt.xticks(range(1, 11))\n",
    "plt.yticks()\n",
    "plt.xlabel('Number of Custers (K)')\n",
    "plt.ylabel('WCSS')\n",
    "plt.grid()\n",
    "plt.show()"
   ]
  },
  {
   "cell_type": "markdown",
   "id": "acad95ed",
   "metadata": {},
   "source": [
    "### Using K-means Clustering "
   ]
  },
  {
   "cell_type": "code",
   "execution_count": 80,
   "id": "021c3a39",
   "metadata": {},
   "outputs": [
    {
     "data": {
      "text/plain": [
       "KMeans(n_clusters=4)"
      ]
     },
     "execution_count": 80,
     "metadata": {},
     "output_type": "execute_result"
    }
   ],
   "source": [
    "kmean = KMeans(n_clusters=4)\n",
    "kmean.fit(X_pca)"
   ]
  },
  {
   "cell_type": "code",
   "execution_count": 81,
   "id": "a32473bf",
   "metadata": {},
   "outputs": [
    {
     "data": {
      "text/plain": [
       "2    32\n",
       "1    28\n",
       "3    12\n",
       "0     2\n",
       "dtype: int64"
      ]
     },
     "execution_count": 81,
     "metadata": {},
     "output_type": "execute_result"
    }
   ],
   "source": [
    "pd.Series(kmean.labels_).value_counts()"
   ]
  },
  {
   "cell_type": "code",
   "execution_count": 83,
   "id": "ff5efb2b",
   "metadata": {},
   "outputs": [
    {
     "data": {
      "image/png": "[encoded data removed]",
      "text/plain": [
       "<Figure size 504x360 with 1 Axes>"
      ]
     },
     "metadata": {},
     "output_type": "display_data"
    }
   ],
   "source": [
    "plt.figure(figsize=(7,5))\n",
    "sns.scatterplot(data=df_pca, x='PC1', y='PC3', s=70, hue=kmean.labels_, palette='viridis', zorder=2, alpha=.9)\n",
    "plt.scatter(x=kmean.cluster_centers_[:,0], y=kmean.cluster_centers_[:,1], marker=\"*\", c=\"r\", s=80, label=\"centroids\")\n",
    "plt.xlabel('PC1', size=12)\n",
    "plt.ylabel('PC2', size=12)\n",
    "plt.xticks(family='serif')\n",
    "plt.yticks(family='serif')\n",
    "plt.grid()\n",
    "plt.tick_params(grid_color='lightgray', grid_linestyle='--', zorder=1)\n",
    "plt.legend(title='Labels', fancybox=True, shadow=True)\n",
    "plt.title('K-Means Clustering Results', family='serif', size=15)\n",
    "plt.show()"
   ]
  },
  {
   "cell_type": "code",
   "execution_count": null,
   "id": "6a9ba42b",
   "metadata": {},
   "outputs": [],
   "source": []
  }
 ],
 "metadata": {
  "kernelspec": {
   "display_name": "Python 3 (ipykernel)",
   "language": "python",
   "name": "python3"
  },
  "language_info": {
   "codemirror_mode": {
    "name": "ipython",
    "version": 3
   },
   "file_extension": ".py",
   "mimetype": "text/x-python",
   "name": "python",
   "nbconvert_exporter": "python",
   "pygments_lexer": "ipython3",
   "version": "3.9.7"
  }
 },
 "nbformat": 4,
 "nbformat_minor": 5
}
